{
 "cells": [
  {
   "cell_type": "code",
   "execution_count": 6,
   "metadata": {},
   "outputs": [
    {
     "name": "stdout",
     "output_type": "stream",
     "text": [
      "Connected to MySQL Server version 5.5.5-10.4.28-MariaDB\n",
      "Connected to database: ('bebas',)\n"
     ]
    }
   ],
   "source": [
    "import tkinter as tk\n",
    "from tkinter import messagebox\n",
    "import mysql.connector\n",
    "from mysql.connector import Error\n",
    "\n",
    "# Fungsi untuk menghubungkan ke database MySQL\n",
    "def connect_to_database():\n",
    "    try:\n",
    "        # Membuat koneksi ke MySQL\n",
    "        connection = mysql.connector.connect(\n",
    "            host='localhost',          # Sesuaikan dengan host MySQL Anda (default: 'localhost')\n",
    "            user='root',               # Ganti dengan nama user MySQL Anda\n",
    "            password='',               # Ganti dengan password MySQL Anda\n",
    "            database='umur'            # Nama database yang sudah Anda buat\n",
    "        )\n",
    "\n",
    "        if connection.is_connected():\n",
    "            db_info = connection.get_server_info()\n",
    "            print(f\"Connected to MySQL Server version {db_info}\")\n",
    "            cursor = connection.cursor()\n",
    "            cursor.execute(\"SELECT DATABASE();\")\n",
    "            record = cursor.fetchone()\n",
    "            print(f\"Connected to database: {record}\")\n",
    "            return connection\n",
    "\n",
    "    except Error as e:\n",
    "        print(f\"Error connecting to MySQL: {e}\")\n",
    "        messagebox.showerror(\"Connection Error\", f\"Error: {e}\")\n",
    "        return None\n",
    "\n",
    "# Fungsi untuk menambahkan data ke database MySQL\n",
    "def add_user():\n",
    "    name = entry_name.get()\n",
    "    age = entry_age.get()\n",
    "\n",
    "    if not name or not age:\n",
    "        messagebox.showwarning(\"Input Error\", \"Please fill out all fields.\")\n",
    "        return\n",
    "\n",
    "    try:\n",
    "        connection = connect_to_database()\n",
    "        if connection:\n",
    "            cursor = connection.cursor()\n",
    "            query = \"INSERT INTO users (name, age) VALUES (%s, %s)\"\n",
    "            cursor.execute(query, (name, int(age)))\n",
    "            connection.commit()\n",
    "            cursor.close()\n",
    "            connection.close()\n",
    "            messagebox.showinfo(\"Success\", f\"User {name} added successfully!\")\n",
    "            entry_name.delete(0, tk.END)\n",
    "            entry_age.delete(0, tk.END)\n",
    "        else:\n",
    "            messagebox.showerror(\"Database Error\", \"Connection failed.\")\n",
    "    except Exception as e:\n",
    "        messagebox.showerror(\"Database Error\", str(e))\n",
    "\n",
    "# Membuat GUI menggunakan Tkinter\n",
    "root = tk.Tk()\n",
    "root.title(\"User Management\")\n",
    "\n",
    "# Label dan entry untuk nama\n",
    "label_name = tk.Label(root, text=\"Name\")\n",
    "label_name.grid(row=0, column=0, padx=10, pady=10)\n",
    "entry_name = tk.Entry(root)\n",
    "entry_name.grid(row=0, column=1, padx=10, pady=10)\n",
    "\n",
    "# Label dan entry untuk umur\n",
    "label_age = tk.Label(root, text=\"Age\")\n",
    "label_age.grid(row=1, column=0, padx=10, pady=10)\n",
    "entry_age = tk.Entry(root)\n",
    "entry_age.grid(row=1, column=1, padx=10, pady=10)\n",
    "\n",
    "# Tombol untuk menambahkan data\n",
    "btn_add = tk.Button(root, text=\"Add User\", command=add_user)\n",
    "btn_add.grid(row=2, column=0, columnspan=2, pady=10)\n",
    "\n",
    "root.mainloop()\n"
   ]
  }
 ],
 "metadata": {
  "kernelspec": {
   "display_name": "Python 3",
   "language": "python",
   "name": "python3"
  },
  "language_info": {
   "codemirror_mode": {
    "name": "ipython",
    "version": 3
   },
   "file_extension": ".py",
   "mimetype": "text/x-python",
   "name": "python",
   "nbconvert_exporter": "python",
   "pygments_lexer": "ipython3",
   "version": "3.11.4"
  }
 },
 "nbformat": 4,
 "nbformat_minor": 2
}
